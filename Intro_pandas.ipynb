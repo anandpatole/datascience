{
 "cells": [
  {
   "cell_type": "code",
   "execution_count": 1,
   "metadata": {},
   "outputs": [],
   "source": [
    "import numpy as np\n",
    "import pandas as pd\n",
    "%matplotlib inline\n",
    "import matplotlib.pyplot as plt\n",
    "import pandas_datareader as pdr"
   ]
  },
  {
   "cell_type": "code",
   "execution_count": 4,
   "metadata": {},
   "outputs": [],
   "source": [
    "#Get data (5 years, GOOG AMZN)\n",
    "amzn = pdr.get_data_yahoo('AMZN', '20121101')\n",
    "goog = pdr.get_data_yahoo('GOOG', '2012-11-01')"
   ]
  },
  {
   "cell_type": "code",
   "execution_count": 9,
   "metadata": {},
   "outputs": [
    {
     "data": {
      "text/html": [
       "<div>\n",
       "<style scoped>\n",
       "    .dataframe tbody tr th:only-of-type {\n",
       "        vertical-align: middle;\n",
       "    }\n",
       "\n",
       "    .dataframe tbody tr th {\n",
       "        vertical-align: top;\n",
       "    }\n",
       "\n",
       "    .dataframe thead th {\n",
       "        text-align: right;\n",
       "    }\n",
       "</style>\n",
       "<table border=\"1\" class=\"dataframe\">\n",
       "  <thead>\n",
       "    <tr style=\"text-align: right;\">\n",
       "      <th></th>\n",
       "      <th>High</th>\n",
       "      <th>Low</th>\n",
       "      <th>Open</th>\n",
       "      <th>Close</th>\n",
       "      <th>Volume</th>\n",
       "      <th>Adj Close</th>\n",
       "    </tr>\n",
       "    <tr>\n",
       "      <th>Date</th>\n",
       "      <th></th>\n",
       "      <th></th>\n",
       "      <th></th>\n",
       "      <th></th>\n",
       "      <th></th>\n",
       "      <th></th>\n",
       "    </tr>\n",
       "  </thead>\n",
       "  <tbody>\n",
       "    <tr>\n",
       "      <td>2012-10-31</td>\n",
       "      <td>238.699997</td>\n",
       "      <td>230.500000</td>\n",
       "      <td>236.320007</td>\n",
       "      <td>232.889999</td>\n",
       "      <td>4797600</td>\n",
       "      <td>232.889999</td>\n",
       "    </tr>\n",
       "    <tr>\n",
       "      <td>2012-11-01</td>\n",
       "      <td>234.550003</td>\n",
       "      <td>231.339996</td>\n",
       "      <td>234.229996</td>\n",
       "      <td>232.139999</td>\n",
       "      <td>3905100</td>\n",
       "      <td>232.139999</td>\n",
       "    </tr>\n",
       "    <tr>\n",
       "      <td>2012-11-02</td>\n",
       "      <td>237.399994</td>\n",
       "      <td>232.110001</td>\n",
       "      <td>234.009995</td>\n",
       "      <td>232.419998</td>\n",
       "      <td>3374700</td>\n",
       "      <td>232.419998</td>\n",
       "    </tr>\n",
       "    <tr>\n",
       "      <td>2012-11-05</td>\n",
       "      <td>234.830002</td>\n",
       "      <td>230.110001</td>\n",
       "      <td>232.039993</td>\n",
       "      <td>234.330002</td>\n",
       "      <td>1846100</td>\n",
       "      <td>234.330002</td>\n",
       "    </tr>\n",
       "    <tr>\n",
       "      <td>2012-11-06</td>\n",
       "      <td>237.750000</td>\n",
       "      <td>234.449997</td>\n",
       "      <td>235.410004</td>\n",
       "      <td>237.559998</td>\n",
       "      <td>2661300</td>\n",
       "      <td>237.559998</td>\n",
       "    </tr>\n",
       "  </tbody>\n",
       "</table>\n",
       "</div>"
      ],
      "text/plain": [
       "                  High         Low        Open       Close   Volume  \\\n",
       "Date                                                                  \n",
       "2012-10-31  238.699997  230.500000  236.320007  232.889999  4797600   \n",
       "2012-11-01  234.550003  231.339996  234.229996  232.139999  3905100   \n",
       "2012-11-02  237.399994  232.110001  234.009995  232.419998  3374700   \n",
       "2012-11-05  234.830002  230.110001  232.039993  234.330002  1846100   \n",
       "2012-11-06  237.750000  234.449997  235.410004  237.559998  2661300   \n",
       "\n",
       "             Adj Close  \n",
       "Date                    \n",
       "2012-10-31  232.889999  \n",
       "2012-11-01  232.139999  \n",
       "2012-11-02  232.419998  \n",
       "2012-11-05  234.330002  \n",
       "2012-11-06  237.559998  "
      ]
     },
     "execution_count": 9,
     "metadata": {},
     "output_type": "execute_result"
    }
   ],
   "source": [
    "amzn.head()"
   ]
  },
  {
   "cell_type": "code",
   "execution_count": 10,
   "metadata": {},
   "outputs": [
    {
     "data": {
      "text/html": [
       "<div>\n",
       "<style scoped>\n",
       "    .dataframe tbody tr th:only-of-type {\n",
       "        vertical-align: middle;\n",
       "    }\n",
       "\n",
       "    .dataframe tbody tr th {\n",
       "        vertical-align: top;\n",
       "    }\n",
       "\n",
       "    .dataframe thead th {\n",
       "        text-align: right;\n",
       "    }\n",
       "</style>\n",
       "<table border=\"1\" class=\"dataframe\">\n",
       "  <thead>\n",
       "    <tr style=\"text-align: right;\">\n",
       "      <th></th>\n",
       "      <th>High</th>\n",
       "      <th>Low</th>\n",
       "      <th>Open</th>\n",
       "      <th>Close</th>\n",
       "      <th>Volume</th>\n",
       "      <th>Adj Close</th>\n",
       "    </tr>\n",
       "    <tr>\n",
       "      <th>Date</th>\n",
       "      <th></th>\n",
       "      <th></th>\n",
       "      <th></th>\n",
       "      <th></th>\n",
       "      <th></th>\n",
       "      <th></th>\n",
       "    </tr>\n",
       "  </thead>\n",
       "  <tbody>\n",
       "    <tr>\n",
       "      <td>2019-12-16</td>\n",
       "      <td>1769.500000</td>\n",
       "      <td>1757.050049</td>\n",
       "      <td>1767.000000</td>\n",
       "      <td>1769.209961</td>\n",
       "      <td>3145200</td>\n",
       "      <td>1769.209961</td>\n",
       "    </tr>\n",
       "    <tr>\n",
       "      <td>2019-12-17</td>\n",
       "      <td>1792.000000</td>\n",
       "      <td>1777.390015</td>\n",
       "      <td>1778.010010</td>\n",
       "      <td>1790.660034</td>\n",
       "      <td>3644400</td>\n",
       "      <td>1790.660034</td>\n",
       "    </tr>\n",
       "    <tr>\n",
       "      <td>2019-12-18</td>\n",
       "      <td>1798.199951</td>\n",
       "      <td>1782.359985</td>\n",
       "      <td>1795.020020</td>\n",
       "      <td>1784.030029</td>\n",
       "      <td>3351400</td>\n",
       "      <td>1784.030029</td>\n",
       "    </tr>\n",
       "    <tr>\n",
       "      <td>2019-12-19</td>\n",
       "      <td>1792.989990</td>\n",
       "      <td>1774.060059</td>\n",
       "      <td>1780.500000</td>\n",
       "      <td>1792.280029</td>\n",
       "      <td>2652800</td>\n",
       "      <td>1792.280029</td>\n",
       "    </tr>\n",
       "    <tr>\n",
       "      <td>2019-12-20</td>\n",
       "      <td>1802.969971</td>\n",
       "      <td>1782.449951</td>\n",
       "      <td>1799.619995</td>\n",
       "      <td>1786.500000</td>\n",
       "      <td>5150800</td>\n",
       "      <td>1786.500000</td>\n",
       "    </tr>\n",
       "  </tbody>\n",
       "</table>\n",
       "</div>"
      ],
      "text/plain": [
       "                   High          Low         Open        Close   Volume  \\\n",
       "Date                                                                      \n",
       "2019-12-16  1769.500000  1757.050049  1767.000000  1769.209961  3145200   \n",
       "2019-12-17  1792.000000  1777.390015  1778.010010  1790.660034  3644400   \n",
       "2019-12-18  1798.199951  1782.359985  1795.020020  1784.030029  3351400   \n",
       "2019-12-19  1792.989990  1774.060059  1780.500000  1792.280029  2652800   \n",
       "2019-12-20  1802.969971  1782.449951  1799.619995  1786.500000  5150800   \n",
       "\n",
       "              Adj Close  \n",
       "Date                     \n",
       "2019-12-16  1769.209961  \n",
       "2019-12-17  1790.660034  \n",
       "2019-12-18  1784.030029  \n",
       "2019-12-19  1792.280029  \n",
       "2019-12-20  1786.500000  "
      ]
     },
     "execution_count": 10,
     "metadata": {},
     "output_type": "execute_result"
    }
   ],
   "source": [
    "amzn.tail()"
   ]
  },
  {
   "cell_type": "code",
   "execution_count": 11,
   "metadata": {},
   "outputs": [
    {
     "name": "stdout",
     "output_type": "stream",
     "text": [
      "<class 'pandas.core.frame.DataFrame'>\n",
      "DatetimeIndex: 1798 entries, 2012-10-31 to 2019-12-20\n",
      "Data columns (total 6 columns):\n",
      "High         1798 non-null float64\n",
      "Low          1798 non-null float64\n",
      "Open         1798 non-null float64\n",
      "Close        1798 non-null float64\n",
      "Volume       1798 non-null int64\n",
      "Adj Close    1798 non-null float64\n",
      "dtypes: float64(5), int64(1)\n",
      "memory usage: 98.3 KB\n",
      "<class 'pandas.core.frame.DataFrame'>\n",
      "DatetimeIndex: 1798 entries, 2012-10-31 to 2019-12-20\n",
      "Data columns (total 6 columns):\n",
      "High         1798 non-null float64\n",
      "Low          1798 non-null float64\n",
      "Open         1798 non-null float64\n",
      "Close        1798 non-null float64\n",
      "Volume       1798 non-null float64\n",
      "Adj Close    1798 non-null float64\n",
      "dtypes: float64(6)\n",
      "memory usage: 98.3 KB\n",
      "None None\n"
     ]
    }
   ],
   "source": [
    "print(amzn.info(), goog.info())"
   ]
  },
  {
   "cell_type": "code",
   "execution_count": 21,
   "metadata": {},
   "outputs": [
    {
     "data": {
      "text/plain": [
       "234.22999572753906"
      ]
     },
     "execution_count": 21,
     "metadata": {},
     "output_type": "execute_result"
    }
   ],
   "source": [
    "amzn.loc['20121101','Open']"
   ]
  },
  {
   "cell_type": "code",
   "execution_count": 22,
   "metadata": {},
   "outputs": [
    {
     "data": {
      "text/plain": [
       "238.6999969482422"
      ]
     },
     "execution_count": 22,
     "metadata": {},
     "output_type": "execute_result"
    }
   ],
   "source": [
    "amzn.iloc[0,0]"
   ]
  },
  {
   "cell_type": "code",
   "execution_count": 23,
   "metadata": {},
   "outputs": [
    {
     "data": {
      "text/html": [
       "<div>\n",
       "<style scoped>\n",
       "    .dataframe tbody tr th:only-of-type {\n",
       "        vertical-align: middle;\n",
       "    }\n",
       "\n",
       "    .dataframe tbody tr th {\n",
       "        vertical-align: top;\n",
       "    }\n",
       "\n",
       "    .dataframe thead th {\n",
       "        text-align: right;\n",
       "    }\n",
       "</style>\n",
       "<table border=\"1\" class=\"dataframe\">\n",
       "  <thead>\n",
       "    <tr style=\"text-align: right;\">\n",
       "      <th></th>\n",
       "      <th>High</th>\n",
       "      <th>Low</th>\n",
       "      <th>Open</th>\n",
       "      <th>Close</th>\n",
       "      <th>Volume</th>\n",
       "      <th>Adj Close</th>\n",
       "    </tr>\n",
       "    <tr>\n",
       "      <th>Date</th>\n",
       "      <th></th>\n",
       "      <th></th>\n",
       "      <th></th>\n",
       "      <th></th>\n",
       "      <th></th>\n",
       "      <th></th>\n",
       "    </tr>\n",
       "  </thead>\n",
       "  <tbody>\n",
       "    <tr>\n",
       "      <td>2017-01-12</td>\n",
       "      <td>814.130005</td>\n",
       "      <td>799.500000</td>\n",
       "      <td>800.309998</td>\n",
       "      <td>813.640015</td>\n",
       "      <td>4873900</td>\n",
       "      <td>813.640015</td>\n",
       "    </tr>\n",
       "    <tr>\n",
       "      <td>2017-01-13</td>\n",
       "      <td>821.650024</td>\n",
       "      <td>811.400024</td>\n",
       "      <td>814.320007</td>\n",
       "      <td>817.140015</td>\n",
       "      <td>3791900</td>\n",
       "      <td>817.140015</td>\n",
       "    </tr>\n",
       "    <tr>\n",
       "      <td>2017-01-17</td>\n",
       "      <td>816.000000</td>\n",
       "      <td>803.440002</td>\n",
       "      <td>815.700012</td>\n",
       "      <td>809.719971</td>\n",
       "      <td>3670500</td>\n",
       "      <td>809.719971</td>\n",
       "    </tr>\n",
       "    <tr>\n",
       "      <td>2017-01-18</td>\n",
       "      <td>811.729980</td>\n",
       "      <td>804.270020</td>\n",
       "      <td>809.500000</td>\n",
       "      <td>807.479980</td>\n",
       "      <td>2354200</td>\n",
       "      <td>807.479980</td>\n",
       "    </tr>\n",
       "    <tr>\n",
       "      <td>2017-01-19</td>\n",
       "      <td>813.510010</td>\n",
       "      <td>807.320007</td>\n",
       "      <td>810.000000</td>\n",
       "      <td>809.039978</td>\n",
       "      <td>2540800</td>\n",
       "      <td>809.039978</td>\n",
       "    </tr>\n",
       "    <tr>\n",
       "      <td>...</td>\n",
       "      <td>...</td>\n",
       "      <td>...</td>\n",
       "      <td>...</td>\n",
       "      <td>...</td>\n",
       "      <td>...</td>\n",
       "      <td>...</td>\n",
       "    </tr>\n",
       "    <tr>\n",
       "      <td>2019-12-16</td>\n",
       "      <td>1769.500000</td>\n",
       "      <td>1757.050049</td>\n",
       "      <td>1767.000000</td>\n",
       "      <td>1769.209961</td>\n",
       "      <td>3145200</td>\n",
       "      <td>1769.209961</td>\n",
       "    </tr>\n",
       "    <tr>\n",
       "      <td>2019-12-17</td>\n",
       "      <td>1792.000000</td>\n",
       "      <td>1777.390015</td>\n",
       "      <td>1778.010010</td>\n",
       "      <td>1790.660034</td>\n",
       "      <td>3644400</td>\n",
       "      <td>1790.660034</td>\n",
       "    </tr>\n",
       "    <tr>\n",
       "      <td>2019-12-18</td>\n",
       "      <td>1798.199951</td>\n",
       "      <td>1782.359985</td>\n",
       "      <td>1795.020020</td>\n",
       "      <td>1784.030029</td>\n",
       "      <td>3351400</td>\n",
       "      <td>1784.030029</td>\n",
       "    </tr>\n",
       "    <tr>\n",
       "      <td>2019-12-19</td>\n",
       "      <td>1792.989990</td>\n",
       "      <td>1774.060059</td>\n",
       "      <td>1780.500000</td>\n",
       "      <td>1792.280029</td>\n",
       "      <td>2652800</td>\n",
       "      <td>1792.280029</td>\n",
       "    </tr>\n",
       "    <tr>\n",
       "      <td>2019-12-20</td>\n",
       "      <td>1802.969971</td>\n",
       "      <td>1782.449951</td>\n",
       "      <td>1799.619995</td>\n",
       "      <td>1786.500000</td>\n",
       "      <td>5150800</td>\n",
       "      <td>1786.500000</td>\n",
       "    </tr>\n",
       "  </tbody>\n",
       "</table>\n",
       "<p>741 rows × 6 columns</p>\n",
       "</div>"
      ],
      "text/plain": [
       "                   High          Low         Open        Close   Volume  \\\n",
       "Date                                                                      \n",
       "2017-01-12   814.130005   799.500000   800.309998   813.640015  4873900   \n",
       "2017-01-13   821.650024   811.400024   814.320007   817.140015  3791900   \n",
       "2017-01-17   816.000000   803.440002   815.700012   809.719971  3670500   \n",
       "2017-01-18   811.729980   804.270020   809.500000   807.479980  2354200   \n",
       "2017-01-19   813.510010   807.320007   810.000000   809.039978  2540800   \n",
       "...                 ...          ...          ...          ...      ...   \n",
       "2019-12-16  1769.500000  1757.050049  1767.000000  1769.209961  3145200   \n",
       "2019-12-17  1792.000000  1777.390015  1778.010010  1790.660034  3644400   \n",
       "2019-12-18  1798.199951  1782.359985  1795.020020  1784.030029  3351400   \n",
       "2019-12-19  1792.989990  1774.060059  1780.500000  1792.280029  2652800   \n",
       "2019-12-20  1802.969971  1782.449951  1799.619995  1786.500000  5150800   \n",
       "\n",
       "              Adj Close  \n",
       "Date                     \n",
       "2017-01-12   813.640015  \n",
       "2017-01-13   817.140015  \n",
       "2017-01-17   809.719971  \n",
       "2017-01-18   807.479980  \n",
       "2017-01-19   809.039978  \n",
       "...                 ...  \n",
       "2019-12-16  1769.209961  \n",
       "2019-12-17  1790.660034  \n",
       "2019-12-18  1784.030029  \n",
       "2019-12-19  1792.280029  \n",
       "2019-12-20  1786.500000  \n",
       "\n",
       "[741 rows x 6 columns]"
      ]
     },
     "execution_count": 23,
     "metadata": {},
     "output_type": "execute_result"
    }
   ],
   "source": [
    "amzn[amzn.index > '2017-01-11']"
   ]
  },
  {
   "cell_type": "code",
   "execution_count": 24,
   "metadata": {},
   "outputs": [
    {
     "name": "stdout",
     "output_type": "stream",
     "text": [
      "Mean: 3982002.948  Std: 2229243.020\n"
     ]
    }
   ],
   "source": [
    "print('Mean: %.3f  Std: %.3f'% (amzn['Volume'].mean(), amzn['Volume'].std()) )"
   ]
  },
  {
   "cell_type": "code",
   "execution_count": 27,
   "metadata": {},
   "outputs": [],
   "source": [
    "high = amzn['Volume'].mean() + 2* amzn['Volume'].std()"
   ]
  },
  {
   "cell_type": "code",
   "execution_count": 30,
   "metadata": {},
   "outputs": [
    {
     "data": {
      "text/plain": [
       "0.04505005561735261"
      ]
     },
     "execution_count": 30,
     "metadata": {},
     "output_type": "execute_result"
    }
   ],
   "source": [
    "len(amzn[amzn.Volume > high])/len(amzn)\n"
   ]
  },
  {
   "cell_type": "code",
   "execution_count": 31,
   "metadata": {},
   "outputs": [],
   "source": [
    "amzn['pct_chng'] = amzn.Close.pct_change()"
   ]
  },
  {
   "cell_type": "code",
   "execution_count": 32,
   "metadata": {},
   "outputs": [
    {
     "data": {
      "text/html": [
       "<div>\n",
       "<style scoped>\n",
       "    .dataframe tbody tr th:only-of-type {\n",
       "        vertical-align: middle;\n",
       "    }\n",
       "\n",
       "    .dataframe tbody tr th {\n",
       "        vertical-align: top;\n",
       "    }\n",
       "\n",
       "    .dataframe thead th {\n",
       "        text-align: right;\n",
       "    }\n",
       "</style>\n",
       "<table border=\"1\" class=\"dataframe\">\n",
       "  <thead>\n",
       "    <tr style=\"text-align: right;\">\n",
       "      <th></th>\n",
       "      <th>High</th>\n",
       "      <th>Low</th>\n",
       "      <th>Open</th>\n",
       "      <th>Close</th>\n",
       "      <th>Volume</th>\n",
       "      <th>Adj Close</th>\n",
       "      <th>pct_chng</th>\n",
       "    </tr>\n",
       "    <tr>\n",
       "      <th>Date</th>\n",
       "      <th></th>\n",
       "      <th></th>\n",
       "      <th></th>\n",
       "      <th></th>\n",
       "      <th></th>\n",
       "      <th></th>\n",
       "      <th></th>\n",
       "    </tr>\n",
       "  </thead>\n",
       "  <tbody>\n",
       "    <tr>\n",
       "      <td>2012-10-31</td>\n",
       "      <td>238.699997</td>\n",
       "      <td>230.500000</td>\n",
       "      <td>236.320007</td>\n",
       "      <td>232.889999</td>\n",
       "      <td>4797600</td>\n",
       "      <td>232.889999</td>\n",
       "      <td>NaN</td>\n",
       "    </tr>\n",
       "    <tr>\n",
       "      <td>2012-11-01</td>\n",
       "      <td>234.550003</td>\n",
       "      <td>231.339996</td>\n",
       "      <td>234.229996</td>\n",
       "      <td>232.139999</td>\n",
       "      <td>3905100</td>\n",
       "      <td>232.139999</td>\n",
       "      <td>-0.003220</td>\n",
       "    </tr>\n",
       "    <tr>\n",
       "      <td>2012-11-02</td>\n",
       "      <td>237.399994</td>\n",
       "      <td>232.110001</td>\n",
       "      <td>234.009995</td>\n",
       "      <td>232.419998</td>\n",
       "      <td>3374700</td>\n",
       "      <td>232.419998</td>\n",
       "      <td>0.001206</td>\n",
       "    </tr>\n",
       "    <tr>\n",
       "      <td>2012-11-05</td>\n",
       "      <td>234.830002</td>\n",
       "      <td>230.110001</td>\n",
       "      <td>232.039993</td>\n",
       "      <td>234.330002</td>\n",
       "      <td>1846100</td>\n",
       "      <td>234.330002</td>\n",
       "      <td>0.008218</td>\n",
       "    </tr>\n",
       "    <tr>\n",
       "      <td>2012-11-06</td>\n",
       "      <td>237.750000</td>\n",
       "      <td>234.449997</td>\n",
       "      <td>235.410004</td>\n",
       "      <td>237.559998</td>\n",
       "      <td>2661300</td>\n",
       "      <td>237.559998</td>\n",
       "      <td>0.013784</td>\n",
       "    </tr>\n",
       "  </tbody>\n",
       "</table>\n",
       "</div>"
      ],
      "text/plain": [
       "                  High         Low        Open       Close   Volume  \\\n",
       "Date                                                                  \n",
       "2012-10-31  238.699997  230.500000  236.320007  232.889999  4797600   \n",
       "2012-11-01  234.550003  231.339996  234.229996  232.139999  3905100   \n",
       "2012-11-02  237.399994  232.110001  234.009995  232.419998  3374700   \n",
       "2012-11-05  234.830002  230.110001  232.039993  234.330002  1846100   \n",
       "2012-11-06  237.750000  234.449997  235.410004  237.559998  2661300   \n",
       "\n",
       "             Adj Close  pct_chng  \n",
       "Date                              \n",
       "2012-10-31  232.889999       NaN  \n",
       "2012-11-01  232.139999 -0.003220  \n",
       "2012-11-02  232.419998  0.001206  \n",
       "2012-11-05  234.330002  0.008218  \n",
       "2012-11-06  237.559998  0.013784  "
      ]
     },
     "execution_count": 32,
     "metadata": {},
     "output_type": "execute_result"
    }
   ],
   "source": [
    "amzn.head()"
   ]
  },
  {
   "cell_type": "code",
   "execution_count": 33,
   "metadata": {},
   "outputs": [],
   "source": [
    "goog_11 = goog.loc['2017-11']\n",
    "amzn_11 = amzn.loc['2017-11']"
   ]
  },
  {
   "cell_type": "code",
   "execution_count": 36,
   "metadata": {},
   "outputs": [
    {
     "data": {
      "text/html": [
       "<div>\n",
       "<style scoped>\n",
       "    .dataframe tbody tr th:only-of-type {\n",
       "        vertical-align: middle;\n",
       "    }\n",
       "\n",
       "    .dataframe tbody tr th {\n",
       "        vertical-align: top;\n",
       "    }\n",
       "\n",
       "    .dataframe thead th {\n",
       "        text-align: right;\n",
       "    }\n",
       "</style>\n",
       "<table border=\"1\" class=\"dataframe\">\n",
       "  <thead>\n",
       "    <tr style=\"text-align: right;\">\n",
       "      <th></th>\n",
       "      <th>Adj Close</th>\n",
       "      <th>Close</th>\n",
       "      <th>High</th>\n",
       "      <th>Low</th>\n",
       "      <th>Open</th>\n",
       "      <th>Volume</th>\n",
       "      <th>pct_chng</th>\n",
       "    </tr>\n",
       "    <tr>\n",
       "      <th>Date</th>\n",
       "      <th></th>\n",
       "      <th></th>\n",
       "      <th></th>\n",
       "      <th></th>\n",
       "      <th></th>\n",
       "      <th></th>\n",
       "      <th></th>\n",
       "    </tr>\n",
       "  </thead>\n",
       "  <tbody>\n",
       "    <tr>\n",
       "      <td>2017-11-01</td>\n",
       "      <td>1025.500000</td>\n",
       "      <td>1025.500000</td>\n",
       "      <td>1029.670044</td>\n",
       "      <td>1016.950012</td>\n",
       "      <td>1017.210022</td>\n",
       "      <td>1373400.0</td>\n",
       "      <td>NaN</td>\n",
       "    </tr>\n",
       "    <tr>\n",
       "      <td>2017-11-02</td>\n",
       "      <td>1025.579956</td>\n",
       "      <td>1025.579956</td>\n",
       "      <td>1028.089966</td>\n",
       "      <td>1013.010010</td>\n",
       "      <td>1021.760010</td>\n",
       "      <td>1049000.0</td>\n",
       "      <td>NaN</td>\n",
       "    </tr>\n",
       "    <tr>\n",
       "      <td>2017-11-03</td>\n",
       "      <td>1032.479980</td>\n",
       "      <td>1032.479980</td>\n",
       "      <td>1032.650024</td>\n",
       "      <td>1020.309998</td>\n",
       "      <td>1022.109985</td>\n",
       "      <td>1076400.0</td>\n",
       "      <td>NaN</td>\n",
       "    </tr>\n",
       "    <tr>\n",
       "      <td>2017-11-06</td>\n",
       "      <td>1025.900024</td>\n",
       "      <td>1025.900024</td>\n",
       "      <td>1034.869995</td>\n",
       "      <td>1025.000000</td>\n",
       "      <td>1028.989990</td>\n",
       "      <td>1125200.0</td>\n",
       "      <td>NaN</td>\n",
       "    </tr>\n",
       "    <tr>\n",
       "      <td>2017-11-07</td>\n",
       "      <td>1033.329956</td>\n",
       "      <td>1033.329956</td>\n",
       "      <td>1033.969971</td>\n",
       "      <td>1025.130005</td>\n",
       "      <td>1027.270020</td>\n",
       "      <td>1112300.0</td>\n",
       "      <td>NaN</td>\n",
       "    </tr>\n",
       "  </tbody>\n",
       "</table>\n",
       "</div>"
      ],
      "text/plain": [
       "              Adj Close        Close         High          Low         Open  \\\n",
       "Date                                                                          \n",
       "2017-11-01  1025.500000  1025.500000  1029.670044  1016.950012  1017.210022   \n",
       "2017-11-02  1025.579956  1025.579956  1028.089966  1013.010010  1021.760010   \n",
       "2017-11-03  1032.479980  1032.479980  1032.650024  1020.309998  1022.109985   \n",
       "2017-11-06  1025.900024  1025.900024  1034.869995  1025.000000  1028.989990   \n",
       "2017-11-07  1033.329956  1033.329956  1033.969971  1025.130005  1027.270020   \n",
       "\n",
       "               Volume  pct_chng  \n",
       "Date                             \n",
       "2017-11-01  1373400.0       NaN  \n",
       "2017-11-02  1049000.0       NaN  \n",
       "2017-11-03  1076400.0       NaN  \n",
       "2017-11-06  1125200.0       NaN  \n",
       "2017-11-07  1112300.0       NaN  "
      ]
     },
     "execution_count": 36,
     "metadata": {},
     "output_type": "execute_result"
    }
   ],
   "source": [
    "goog_11.append(amzn_11).head()"
   ]
  },
  {
   "cell_type": "code",
   "execution_count": 38,
   "metadata": {},
   "outputs": [
    {
     "data": {
      "text/html": [
       "<div>\n",
       "<style scoped>\n",
       "    .dataframe tbody tr th:only-of-type {\n",
       "        vertical-align: middle;\n",
       "    }\n",
       "\n",
       "    .dataframe tbody tr th {\n",
       "        vertical-align: top;\n",
       "    }\n",
       "\n",
       "    .dataframe thead th {\n",
       "        text-align: right;\n",
       "    }\n",
       "</style>\n",
       "<table border=\"1\" class=\"dataframe\">\n",
       "  <thead>\n",
       "    <tr style=\"text-align: right;\">\n",
       "      <th></th>\n",
       "      <th>Adj Close</th>\n",
       "      <th>Close</th>\n",
       "      <th>High</th>\n",
       "      <th>Low</th>\n",
       "      <th>Open</th>\n",
       "      <th>Volume</th>\n",
       "      <th>pct_chng</th>\n",
       "    </tr>\n",
       "    <tr>\n",
       "      <th>Date</th>\n",
       "      <th></th>\n",
       "      <th></th>\n",
       "      <th></th>\n",
       "      <th></th>\n",
       "      <th></th>\n",
       "      <th></th>\n",
       "      <th></th>\n",
       "    </tr>\n",
       "  </thead>\n",
       "  <tbody>\n",
       "    <tr>\n",
       "      <td>2017-11-24</td>\n",
       "      <td>1186.000000</td>\n",
       "      <td>1186.000000</td>\n",
       "      <td>1186.839966</td>\n",
       "      <td>1160.699951</td>\n",
       "      <td>1160.699951</td>\n",
       "      <td>3528000.0</td>\n",
       "      <td>0.025810</td>\n",
       "    </tr>\n",
       "    <tr>\n",
       "      <td>2017-11-27</td>\n",
       "      <td>1195.829956</td>\n",
       "      <td>1195.829956</td>\n",
       "      <td>1213.410034</td>\n",
       "      <td>1191.150024</td>\n",
       "      <td>1202.660034</td>\n",
       "      <td>6744000.0</td>\n",
       "      <td>0.008288</td>\n",
       "    </tr>\n",
       "    <tr>\n",
       "      <td>2017-11-28</td>\n",
       "      <td>1193.599976</td>\n",
       "      <td>1193.599976</td>\n",
       "      <td>1205.339966</td>\n",
       "      <td>1188.520020</td>\n",
       "      <td>1204.880005</td>\n",
       "      <td>4559400.0</td>\n",
       "      <td>-0.001865</td>\n",
       "    </tr>\n",
       "    <tr>\n",
       "      <td>2017-11-29</td>\n",
       "      <td>1161.270020</td>\n",
       "      <td>1161.270020</td>\n",
       "      <td>1194.800049</td>\n",
       "      <td>1145.189941</td>\n",
       "      <td>1194.800049</td>\n",
       "      <td>9257500.0</td>\n",
       "      <td>-0.027086</td>\n",
       "    </tr>\n",
       "    <tr>\n",
       "      <td>2017-11-30</td>\n",
       "      <td>1176.750000</td>\n",
       "      <td>1176.750000</td>\n",
       "      <td>1178.569946</td>\n",
       "      <td>1160.000000</td>\n",
       "      <td>1167.099976</td>\n",
       "      <td>4509200.0</td>\n",
       "      <td>0.013330</td>\n",
       "    </tr>\n",
       "  </tbody>\n",
       "</table>\n",
       "</div>"
      ],
      "text/plain": [
       "              Adj Close        Close         High          Low         Open  \\\n",
       "Date                                                                          \n",
       "2017-11-24  1186.000000  1186.000000  1186.839966  1160.699951  1160.699951   \n",
       "2017-11-27  1195.829956  1195.829956  1213.410034  1191.150024  1202.660034   \n",
       "2017-11-28  1193.599976  1193.599976  1205.339966  1188.520020  1204.880005   \n",
       "2017-11-29  1161.270020  1161.270020  1194.800049  1145.189941  1194.800049   \n",
       "2017-11-30  1176.750000  1176.750000  1178.569946  1160.000000  1167.099976   \n",
       "\n",
       "               Volume  pct_chng  \n",
       "Date                             \n",
       "2017-11-24  3528000.0  0.025810  \n",
       "2017-11-27  6744000.0  0.008288  \n",
       "2017-11-28  4559400.0 -0.001865  \n",
       "2017-11-29  9257500.0 -0.027086  \n",
       "2017-11-30  4509200.0  0.013330  "
      ]
     },
     "execution_count": 38,
     "metadata": {},
     "output_type": "execute_result"
    }
   ],
   "source": [
    "goog_11.append(amzn_11).tail()"
   ]
  },
  {
   "cell_type": "code",
   "execution_count": 40,
   "metadata": {},
   "outputs": [
    {
     "data": {
      "text/html": [
       "<div>\n",
       "<style scoped>\n",
       "    .dataframe tbody tr th:only-of-type {\n",
       "        vertical-align: middle;\n",
       "    }\n",
       "\n",
       "    .dataframe tbody tr th {\n",
       "        vertical-align: top;\n",
       "    }\n",
       "\n",
       "    .dataframe thead th {\n",
       "        text-align: right;\n",
       "    }\n",
       "</style>\n",
       "<table border=\"1\" class=\"dataframe\">\n",
       "  <thead>\n",
       "    <tr style=\"text-align: right;\">\n",
       "      <th></th>\n",
       "      <th>AZMN</th>\n",
       "      <th>GOOG</th>\n",
       "    </tr>\n",
       "    <tr>\n",
       "      <th>Date</th>\n",
       "      <th></th>\n",
       "      <th></th>\n",
       "    </tr>\n",
       "  </thead>\n",
       "  <tbody>\n",
       "    <tr>\n",
       "      <td>2012-10-31</td>\n",
       "      <td>232.889999</td>\n",
       "      <td>338.879791</td>\n",
       "    </tr>\n",
       "    <tr>\n",
       "      <td>2012-11-01</td>\n",
       "      <td>232.139999</td>\n",
       "      <td>342.511169</td>\n",
       "    </tr>\n",
       "    <tr>\n",
       "      <td>2012-11-02</td>\n",
       "      <td>232.419998</td>\n",
       "      <td>342.675568</td>\n",
       "    </tr>\n",
       "    <tr>\n",
       "      <td>2012-11-05</td>\n",
       "      <td>234.330002</td>\n",
       "      <td>340.204834</td>\n",
       "    </tr>\n",
       "    <tr>\n",
       "      <td>2012-11-06</td>\n",
       "      <td>237.559998</td>\n",
       "      <td>339.587158</td>\n",
       "    </tr>\n",
       "  </tbody>\n",
       "</table>\n",
       "</div>"
      ],
      "text/plain": [
       "                  AZMN        GOOG\n",
       "Date                              \n",
       "2012-10-31  232.889999  338.879791\n",
       "2012-11-01  232.139999  342.511169\n",
       "2012-11-02  232.419998  342.675568\n",
       "2012-11-05  234.330002  340.204834\n",
       "2012-11-06  237.559998  339.587158"
      ]
     },
     "execution_count": 40,
     "metadata": {},
     "output_type": "execute_result"
    }
   ],
   "source": [
    "close  = pd.DataFrame({'AZMN' : amzn.Close, 'GOOG' : goog.Close})\n",
    "close.head()"
   ]
  },
  {
   "cell_type": "code",
   "execution_count": 43,
   "metadata": {},
   "outputs": [
    {
     "data": {
      "text/plain": [
       "<matplotlib.axes._subplots.AxesSubplot at 0x4bb27bef48>"
      ]
     },
     "execution_count": 43,
     "metadata": {},
     "output_type": "execute_result"
    },
    {
     "data": {
      "image/png": "[encoded data removed]",
      "text/plain": [
       "<Figure size 432x288 with 1 Axes>"
      ]
     },
     "metadata": {
      "needs_background": "light"
     },
     "output_type": "display_data"
    }
   ],
   "source": [
    "goog['Volume'][goog.index > '2017'].resample('M').mean().plot()"
   ]
  },
  {
   "cell_type": "code",
   "execution_count": 44,
   "metadata": {},
   "outputs": [],
   "source": [
    "amzn_change = np.log(amzn.Close /amzn.Close.shift(1))\n",
    "goog_change = np.log(goog.Close / goog.Close.shift(1))"
   ]
  },
  {
   "cell_type": "code",
   "execution_count": 45,
   "metadata": {},
   "outputs": [
    {
     "data": {
      "text/plain": [
       "<matplotlib.axes._subplots.AxesSubplot at 0x4bb1beb8c8>"
      ]
     },
     "execution_count": 45,
     "metadata": {},
     "output_type": "execute_result"
    },
    {
     "data": {
      "image/png": "[encoded data removed]",
      "text/plain": [
       "<Figure size 432x288 with 1 Axes>"
      ]
     },
     "metadata": {
      "needs_background": "light"
     },
     "output_type": "display_data"
    }
   ],
   "source": [
    "amzn_change.cumsum().plot()\n",
    "goog_change.cumsum().plot()"
   ]
  },
  {
   "cell_type": "code",
   "execution_count": 46,
   "metadata": {},
   "outputs": [],
   "source": [
    "new = pd.DataFrame({'AMZN': amzn_change[1:], 'GOOG' : goog_change[1:]})\n",
    "new.to_csv('stocks.csv')"
   ]
  },
  {
   "cell_type": "code",
   "execution_count": 47,
   "metadata": {},
   "outputs": [
    {
     "data": {
      "text/html": [
       "<div>\n",
       "<style scoped>\n",
       "    .dataframe tbody tr th:only-of-type {\n",
       "        vertical-align: middle;\n",
       "    }\n",
       "\n",
       "    .dataframe tbody tr th {\n",
       "        vertical-align: top;\n",
       "    }\n",
       "\n",
       "    .dataframe thead th {\n",
       "        text-align: right;\n",
       "    }\n",
       "</style>\n",
       "<table border=\"1\" class=\"dataframe\">\n",
       "  <thead>\n",
       "    <tr style=\"text-align: right;\">\n",
       "      <th></th>\n",
       "      <th>Date</th>\n",
       "      <th>AMZN</th>\n",
       "      <th>GOOG</th>\n",
       "    </tr>\n",
       "  </thead>\n",
       "  <tbody>\n",
       "    <tr>\n",
       "      <td>0</td>\n",
       "      <td>2012-11-01</td>\n",
       "      <td>-0.003226</td>\n",
       "      <td>0.010659</td>\n",
       "    </tr>\n",
       "    <tr>\n",
       "      <td>1</td>\n",
       "      <td>2012-11-02</td>\n",
       "      <td>0.001205</td>\n",
       "      <td>0.000480</td>\n",
       "    </tr>\n",
       "    <tr>\n",
       "      <td>2</td>\n",
       "      <td>2012-11-05</td>\n",
       "      <td>0.008184</td>\n",
       "      <td>-0.007236</td>\n",
       "    </tr>\n",
       "    <tr>\n",
       "      <td>3</td>\n",
       "      <td>2012-11-06</td>\n",
       "      <td>0.013690</td>\n",
       "      <td>-0.001817</td>\n",
       "    </tr>\n",
       "    <tr>\n",
       "      <td>4</td>\n",
       "      <td>2012-11-07</td>\n",
       "      <td>-0.023424</td>\n",
       "      <td>-0.021649</td>\n",
       "    </tr>\n",
       "  </tbody>\n",
       "</table>\n",
       "</div>"
      ],
      "text/plain": [
       "         Date      AMZN      GOOG\n",
       "0  2012-11-01 -0.003226  0.010659\n",
       "1  2012-11-02  0.001205  0.000480\n",
       "2  2012-11-05  0.008184 -0.007236\n",
       "3  2012-11-06  0.013690 -0.001817\n",
       "4  2012-11-07 -0.023424 -0.021649"
      ]
     },
     "execution_count": 47,
     "metadata": {},
     "output_type": "execute_result"
    }
   ],
   "source": [
    "pd.read_csv('stocks.csv').head()"
   ]
  },
  {
   "cell_type": "code",
   "execution_count": 48,
   "metadata": {},
   "outputs": [
    {
     "data": {
      "text/plain": [
       "<bound method DataFrame.info of                 AMZN      GOOG\n",
       "Date                          \n",
       "2012-11-01 -0.003226  0.010659\n",
       "2012-11-02  0.001205  0.000480\n",
       "2012-11-05  0.008184 -0.007236\n",
       "2012-11-06  0.013690 -0.001817\n",
       "2012-11-07 -0.023424 -0.021649\n",
       "...              ...       ...\n",
       "2019-12-16  0.004685  0.009849\n",
       "2019-12-17  0.012051 -0.004455\n",
       "2019-12-18 -0.003709 -0.001847\n",
       "2019-12-19  0.004614  0.002525\n",
       "2019-12-20 -0.003230 -0.004768\n",
       "\n",
       "[1797 rows x 2 columns]>"
      ]
     },
     "execution_count": 48,
     "metadata": {},
     "output_type": "execute_result"
    }
   ],
   "source": [
    "new.info\n"
   ]
  },
  {
   "cell_type": "code",
   "execution_count": null,
   "metadata": {},
   "outputs": [],
   "source": []
  }
 ],
 "metadata": {
  "kernelspec": {
   "display_name": "Python 3",
   "language": "python",
   "name": "python3"
  },
  "language_info": {
   "codemirror_mode": {
    "name": "ipython",
    "version": 3
   },
   "file_extension": ".py",
   "mimetype": "text/x-python",
   "name": "python",
   "nbconvert_exporter": "python",
   "pygments_lexer": "ipython3",
   "version": "3.7.4"
  }
 },
 "nbformat": 4,
 "nbformat_minor": 2
}
